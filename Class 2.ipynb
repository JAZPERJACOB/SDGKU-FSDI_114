{
 "cells": [
  {
   "cell_type": "code",
   "execution_count": 1,
   "id": "4eaf07d6-0992-4509-9d69-2fb7e7309ad2",
   "metadata": {},
   "outputs": [],
   "source": [
    "# Simplified implementation of Stack (relying on built-ins):\n",
    "\n",
    "class Stack:\n",
    "    def __init__(self):\n",
    "        self.items = [] # python list \n",
    "\n",
    "    def push(self, value):\n",
    "        self.items.append(value)\n",
    "\n",
    "    def pop(self):\n",
    "        return self.items.pop()\n",
    "\n",
    "    # Nice to have methods\n",
    "    def size (self):\n",
    "        return len(self.items)\n",
    "\n",
    "    def peek(self):\n",
    "        return self.items[len(self.items)-1]\n",
    "\n",
    "    def is_empty(self):\n",
    "        return self.items == []"
   ]
  },
  {
   "cell_type": "markdown",
   "id": "a03ba02d-807f-4d1e-a2d8-7b9adea8a644",
   "metadata": {},
   "source": [
    "# Problem 2:\n",
    "Considering the reversal property of stacks, creat a function that uses the `Stack` class above to invert a string.\n",
    "\n",
    "```\n",
    "Examples:\n",
    "invert_str(\"Jazper\") should return \"zapreJ\"\n",
    "invert_str(\"Star\") should return \"ratS\"\n",
    "invert_str(\"hello\") should return \"olleh\"\n",
    "```\n",
    "\n",
    "# Note\n",
    "Googling this one may not help as we *must* use the stack class in the previous cell (google will not have our stack class)."
   ]
  },
  {
   "cell_type": "code",
   "execution_count": 3,
   "id": "cc5e617d-d8d7-4693-99b6-f2d3a60f217f",
   "metadata": {},
   "outputs": [
    {
     "data": {
      "text/plain": [
       "'repzaJ'"
      ]
     },
     "execution_count": 3,
     "metadata": {},
     "output_type": "execute_result"
    }
   ],
   "source": [
    "def invert_str(mystring):\n",
    "    stack = Stack()                  # 0(1)\n",
    "    for char in mystring:            # 0(n)\n",
    "        stack.push(char)\n",
    "    out = \"\"                         #0(1)\n",
    "    while not stack.is_empty():      #0(n)\n",
    "        out += stack.pop() # this is the same as: out = out + stack.pop()\n",
    "    return out                       # 0(1)\n",
    "\n",
    "invert_str(\"Jazper\")"
   ]
  },
  {
   "cell_type": "code",
   "execution_count": 2,
   "id": "35200287-427e-4239-ae08-c87e0219b383",
   "metadata": {},
   "outputs": [],
   "source": [
    "# From scratch implementation of Stack\n",
    "\n",
    "class StackII:\n",
    "    def __init__(self):\n",
    "        self.top = None\n",
    "\n",
    "    class __Node:\n",
    "        def __init__(self, data):\n",
    "            self.data = data\n",
    "            self.below = None\n",
    "\n",
    "    def push(self, value):\n",
    "        new_node = self.__Node(value)\n",
    "        if not self.top:\n",
    "            self.top =  new_node\n",
    "        else:\n",
    "            old_top = self.top\n",
    "            self.top = new_node\n",
    "            self.top.below = old_top\n",
    "\n",
    "    def pop(self):\n",
    "        if self.top:\n",
    "            datum = self.top.data\n",
    "            self.top = self.top.below\n",
    "            return datum\n",
    "        raise IndexError(\"Stack is empty\")\n",
    "\n",
    "    #Nice to have methods:\n",
    "    def peek (self):\n",
    "        if self.top:\n",
    "             return self.top.data\n",
    "        \n",
    "    def size(self):\n",
    "        # This should return the total number of Nodes in our Stack\n",
    "        count = 0\n",
    "        current = self.top\n",
    "        if current:\n",
    "            while current:\n",
    "                current = current.below\n",
    "                count += 1\n",
    "            return count\n",
    "\n",
    "    def is_empty(self):\n",
    "        return self.top == None"
   ]
  },
  {
   "cell_type": "markdown",
   "id": "1a816a75-097f-44df-b3b5-16a134cab4a9",
   "metadata": {},
   "source": [
    "# Problem 3:\n",
    "\n",
    "## Implement the size method in StackII\n",
    "\n",
    "### Acceptance Criteria\n",
    "The size method should return the total number of Nodes stored in the stack.\n",
    "\n",
    "```\n",
    "example code:\n",
    "# Suppose your stack had 3 nodes, then the code below would return 3:\n",
    "stack = Stack()\n",
    "print(stack.size())\n",
    "```"
   ]
  },
  {
   "cell_type": "code",
   "execution_count": null,
   "id": "bdb8327a-4bbb-42a4-b959-683be5bf8dd4",
   "metadata": {},
   "outputs": [],
   "source": []
  }
 ],
 "metadata": {
  "kernelspec": {
   "display_name": "Python 3 (ipykernel)",
   "language": "python",
   "name": "python3"
  },
  "language_info": {
   "codemirror_mode": {
    "name": "ipython",
    "version": 3
   },
   "file_extension": ".py",
   "mimetype": "text/x-python",
   "name": "python",
   "nbconvert_exporter": "python",
   "pygments_lexer": "ipython3",
   "version": "3.12.1"
  }
 },
 "nbformat": 4,
 "nbformat_minor": 5
}
