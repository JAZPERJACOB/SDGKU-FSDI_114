{
 "cells": [
  {
   "cell_type": "code",
   "execution_count": 1,
   "id": "cc644d06-8801-4c9a-b82a-3d46577478b3",
   "metadata": {},
   "outputs": [
    {
     "ename": "SyntaxError",
     "evalue": "invalid syntax (407461215.py, line 1)",
     "output_type": "error",
     "traceback": [
      "\u001b[0;36m  Cell \u001b[0;32mIn[1], line 1\u001b[0;36m\u001b[0m\n\u001b[0;31m    for each character in \"hello, world\":\u001b[0m\n\u001b[0m             ^\u001b[0m\n\u001b[0;31mSyntaxError\u001b[0m\u001b[0;31m:\u001b[0m invalid syntax\n"
     ]
    }
   ],
   "source": [
    "for each character in \"hello, world\":"
   ]
  },
  {
   "cell_type": "code",
   "execution_count": 2,
   "id": "20d8b4c0-1136-498a-b5c4-ec28703d67bf",
   "metadata": {},
   "outputs": [
    {
     "ename": "SyntaxError",
     "evalue": "incomplete input (1233455288.py, line 1)",
     "output_type": "error",
     "traceback": [
      "\u001b[0;36m  Cell \u001b[0;32mIn[2], line 1\u001b[0;36m\u001b[0m\n\u001b[0;31m    for char in \"hello, world\":\u001b[0m\n\u001b[0m                               ^\u001b[0m\n\u001b[0;31mSyntaxError\u001b[0m\u001b[0;31m:\u001b[0m incomplete input\n"
     ]
    }
   ],
   "source": [
    "for char in \"hello, world\":"
   ]
  },
  {
   "cell_type": "code",
   "execution_count": 3,
   "id": "1f6da7b0-ee2d-42e1-b75a-15206682a89e",
   "metadata": {},
   "outputs": [
    {
     "ename": "SyntaxError",
     "evalue": "expected ':' (2891253128.py, line 1)",
     "output_type": "error",
     "traceback": [
      "\u001b[0;36m  Cell \u001b[0;32mIn[3], line 1\u001b[0;36m\u001b[0m\n\u001b[0;31m    for char in \"hello world\"\u001b[0m\n\u001b[0m                             ^\u001b[0m\n\u001b[0;31mSyntaxError\u001b[0m\u001b[0;31m:\u001b[0m expected ':'\n"
     ]
    }
   ],
   "source": [
    "for char in \"hello world\"\n",
    "    print(char)"
   ]
  },
  {
   "cell_type": "markdown",
   "id": "036a0c6b-0c76-41bd-bde9-418aab44201f",
   "metadata": {},
   "source": [
    "for char in \"hello, world\":\n",
    "    print(char)\n",
    "    "
   ]
  },
  {
   "cell_type": "markdown",
   "id": "c71d3b1d-5ec1-4ff7-bb62-88d422169b04",
   "metadata": {},
   "source": [
    "# Problem 1\n",
    "\n",
    "## Anagram Check\n",
    "Given two strings create a function that returns `True` if these anagrams of each other, `False` otherwise.\n",
    "\n",
    "### Acceptance Criteria\n",
    "Two strings are anagrams of each other if all the criteria below are met:\n",
    "1. They must use the same letters the same amount of times.\n",
    "2. They must be of equal length.\n",
    "\n",
    "```\n",
    "Examples:\n",
    "anagram_check(\"earth\",\"heart\") returns True\n",
    "anagram_check(\"star\", \"rats\") returns True\n",
    "anagram_check(\"cars\", \"scar\") returns True\n",
    "```"
   ]
  },
  {
   "cell_type": "code",
   "execution_count": 1,
   "id": "40b6f579-31d6-42bf-9f2e-6ec9bee7db1e",
   "metadata": {},
   "outputs": [],
   "source": [
    "# Don't use clever solutions like this one:\n",
    "\n",
    "def anagram_check(str1, str2):\n",
    "    return sorted(str1) == sorted(str2)"
   ]
  },
  {
   "cell_type": "markdown",
   "id": "babf84a9-c24c-45bb-9bdb-57ec99577ec7",
   "metadata": {},
   "source": [
    "# Pseudocode for anagram check function:\n",
    "\n",
    "```\n",
    "def anagram_check which receives parameters str1 and str2:\n",
    "    # First thing I need to do is level the playing field and remove spaces\n",
    "    str1 = str1 wihtout spaces\n",
    "    str2 = str2 wihtout spaces\n",
    "    str1 = str1 in lower case\n",
    "    str2 = str2 in lower case\n",
    "    if the length of str1 is not equal to the length of str2:\n",
    "        return False\n",
    "    otherwise:\n",
    "        # I would like to track which letters I've seen and how many times\n",
    "        dict_1 = new dictionary\n",
    "        dict_2 = new dictionary\n",
    "        for each number in the range from 0 tot the length of str1:\n",
    "            if the letter at position 0 in str1 is in dict1:\n",
    "                add 1 to the total number of times I've seen that letter\n",
    "            otherwise:\n",
    "                create a new entry in dict_2 with that letter and the value set to 1\n",
    "            if the letter at position 0 in str2 is in dict_2:\n",
    "                add 1 to the total number of times I've seen that letter\n",
    "            otherwise:\n",
    "                create a new entry in dict_2 witht that letter and the value set to 1\n",
    "    return dict_1 == dict_2\n",
    "            \n",
    "```\n",
    "\n",
    "# Challenge for you: Turn this Pseudocode into real python3 code!"
   ]
  },
  {
   "cell_type": "markdown",
   "id": "b7371c36-5db2-4e7f-abc3-d6386e66fbe9",
   "metadata": {},
   "source": [
    "# Pseudocode for anagram check function:\n",
    "\n",
    "```\n",
    "def anagram_check which receives parameters str1 and str2:\n",
    "    # First thing I need to do is level the playing field and remove spaces\n",
    "    str1 = str1 wihtout spaces\n",
    "    str2 = str2 wihtout spaces\n",
    "    str1 = str1 in lower case\n",
    "    str2 = str2 in lower case\n",
    "    if the length of str1 is not equal to the length of str2:\n",
    "        return False\n",
    "    otherwise:\n",
    "        # I would like to track which letters I've seen and how many times\n",
    "        dict_1 = new dictionary\n",
    "        dict_2 = new dictionary\n",
    "        for each number in the range from 0 tot the length of str1:\n",
    "            if the letter at position 0 in str1 is in dict1:\n",
    "                add 1 to the total number of times I've seen that letter\n",
    "            otherwise:\n",
    "                create a new entry in dict_2 with that letter and the value set to 1\n",
    "```"
   ]
  },
  {
   "cell_type": "markdown",
   "id": "fac9b70c-ba6f-4afb-91db-0ff56557dba8",
   "metadata": {},
   "source": [
    "# Pseudocode for anagram check function:\n",
    "\n",
    "```\n",
    "def anagram_check which receives parameters str1 and str2:\n",
    "    # First thing I need to do is level the playing field and remove spaces\n",
    "    str1 = str1 wihtout spaces\n",
    "    str2 = str2 wihtout spaces\n",
    "    str1 = str1 in lower case\n",
    "    str2 = str2 in lower case\n",
    "    if the length of str1 is not equal to the length of str2:\n",
    "        return False\n",
    "    otherwise:\n",
    "        # I would like to track which letters I've seen and how many times\n",
    "        dict_1 = new dictionary\n",
    "        dict_2 = new dictionary\n",
    "        for each number in the range from 0 tot the length of str1:\n",
    "            if the letter at position 0 in str1 is in dict1:\n",
    "                add 1 to the total number of times I've seen that letter\n",
    "            otherwise:\n",
    "                create a new entry in dict_2 with that letter and the value set to 1\n",
    "```"
   ]
  }
 ],
 "metadata": {
  "kernelspec": {
   "display_name": "Python 3 (ipykernel)",
   "language": "python",
   "name": "python3"
  },
  "language_info": {
   "codemirror_mode": {
    "name": "ipython",
    "version": 3
   },
   "file_extension": ".py",
   "mimetype": "text/x-python",
   "name": "python",
   "nbconvert_exporter": "python",
   "pygments_lexer": "ipython3",
   "version": "3.12.1"
  }
 },
 "nbformat": 4,
 "nbformat_minor": 5
}
