{
 "cells": [
  {
   "cell_type": "code",
   "execution_count": null,
   "id": "965bef98-6212-4299-addc-04ffe4457804",
   "metadata": {},
   "outputs": [],
   "source": [
    "# Simplified implementation of a Queue (using built-ins)\n",
    "\n",
    "class Queue:\n",
    "    def __init__(self):\n",
    "        self.items = []\n",
    "\n",
    "    def enqueue(self, value):\n",
    "        self.items.insert(0, value)\n",
    "\n",
    "    def dequeue(self):\n",
    "        return self.items.pop()\n",
    "\n",
    "    #Nice to have methods:\n",
    "    def size(self):\n",
    "        return len(self.items)\n",
    "\n",
    "    def peek(self):\n",
    "        return self.items[len(self.items)-1]\n",
    "\n",
    "    def is_empty(self):\n",
    "        return self.items == []"
   ]
  },
  {
   "cell_type": "markdown",
   "id": "5a25ad1e-acdf-4580-8863-ba7a9d37fc20",
   "metadata": {},
   "source": [
    "# Porblem 4:\n",
    "\n",
    "## Create a \"from scratch implementation of Queue, including, at a minimum \"enqueque\" and \"dequeue\" as its methods\n",
    "\n",
    "```\n",
    "Your class should be name Queuell\n",
    "```"
   ]
  },
  {
   "cell_type": "markdown",
   "id": "aaf634ff-94a7-4b27-87ac-a3ea3d3fd1a7",
   "metadata": {},
   "source": [
    "Recursive functions"
   ]
  },
  {
   "cell_type": "code",
   "execution_count": 2,
   "id": "5ec6744f-007a-483e-830a-dcb027e51ad2",
   "metadata": {},
   "outputs": [],
   "source": [
    "# A recursive function is one that calls itself at least once within it's code\n",
    "\n",
    "# A very simple example:\n",
    "# The factorial function\n",
    "\n",
    "def factorial(n):\n",
    "    if n == 0:\n",
    "        return 1\n",
    "    return n*factorial(n-1)\n",
    "# 5! = 5x4x3x2x1\n",
    "# 0! = 1"
   ]
  },
  {
   "cell_type": "code",
   "execution_count": 4,
   "id": "37f7ce18-5759-4ac3-b88d-8c336a8e7f7b",
   "metadata": {},
   "outputs": [
    {
     "data": {
      "text/plain": [
       "3628800"
      ]
     },
     "execution_count": 4,
     "metadata": {},
     "output_type": "execute_result"
    }
   ],
   "source": [
    "factorial(10)\n",
    "\n",
    "# 5! = 5x4!\n",
    "# 4! = 4x3!"
   ]
  },
  {
   "cell_type": "code",
   "execution_count": 5,
   "id": "fd64f6f2-c797-4fa2-b511-f7da86da3083",
   "metadata": {},
   "outputs": [
    {
     "data": {
      "text/plain": [
       "12586269025"
      ]
     },
     "execution_count": 5,
     "metadata": {},
     "output_type": "execute_result"
    }
   ],
   "source": [
    "# Fibonacci function\n",
    "\n",
    "# F0 = 0; F1= 1\n",
    "# Fn = Fn-1 + Fn-2\n",
    "\n",
    "# 0, 1, 1, 2, 3, 5, 8, 13, 21\n",
    "\n",
    "from functools import lru_cache\n",
    "\n",
    "@lru_cache\n",
    "def fib(n):\n",
    "    if n < 2:\n",
    "        return n\n",
    "    return fib(n-1) + fib(n-2)\n",
    "\n",
    "fib(50)"
   ]
  },
  {
   "cell_type": "code",
   "execution_count": 1,
   "id": "39b40854-ff0a-4f07-8c53-c1303433bab9",
   "metadata": {},
   "outputs": [],
   "source": [
    "# From scratch implementation of QueueII\n",
    "\n",
    "class QueueII:\n",
    "    def __init__(self):\n",
    "        self.front = None\n",
    "        self.back = None\n",
    "\n",
    "    class __Node:\n",
    "        def __init__(self, data):\n",
    "            self.data = data\n",
    "            self.next = None\n",
    "\n",
    "    def enqueue(self, value):\n",
    "        new_node = self.__Node(value)\n",
    "        if not self.back:\n",
    "            self.front = new_node\n",
    "            self.back = new_node\n",
    "        else:\n",
    "            old_back = slef.back\n",
    "            self.back.next = new_node\n",
    "            self.back = new_node\n",
    "\n",
    "    def dequeue(self):\n",
    "        if self.front:\n",
    "            datum = self.front.data\n",
    "            self.front = self.front.next\n",
    "            if not self.front:\n",
    "                self.back = None\n",
    "            return datum\n",
    "        raise IndexError(\"Stack is empty\")"
   ]
  },
  {
   "cell_type": "code",
   "execution_count": null,
   "id": "1bd26ebe-8af0-4d54-877c-1879b24fead7",
   "metadata": {},
   "outputs": [],
   "source": []
  }
 ],
 "metadata": {
  "kernelspec": {
   "display_name": "Python 3 (ipykernel)",
   "language": "python",
   "name": "python3"
  },
  "language_info": {
   "codemirror_mode": {
    "name": "ipython",
    "version": 3
   },
   "file_extension": ".py",
   "mimetype": "text/x-python",
   "name": "python",
   "nbconvert_exporter": "python",
   "pygments_lexer": "ipython3",
   "version": "3.12.1"
  }
 },
 "nbformat": 4,
 "nbformat_minor": 5
}
